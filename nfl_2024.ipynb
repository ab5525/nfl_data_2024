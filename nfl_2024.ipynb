{
 "cells": [
  {
   "cell_type": "code",
   "execution_count": 3,
   "metadata": {
    "collapsed": true
   },
   "outputs": [],
   "source": [
    "import os,math,random, gc,datetime\n",
    "import platform\n",
    "\n",
    "#package imports\n",
    "import numpy as np\n",
    "import pandas as pd\n",
    "\n",
    "#plotting imports\n",
    "import seaborn as sns\n",
    "import matplotlib.pyplot as plt\n",
    "\n",
    "#Stats imports\n",
    "import statsmodels as sm\n",
    "\n",
    "#File paths below\n",
    "#check kaggle or local\n",
    "if platform.platform() == 'Linux-5.15.133+-x86_64-with-glibc2.31':\n",
    "    FILE_PATH = '/kaggle/input/nfl-big-data-bowl-2024'\n",
    "else:\n",
    "    FILE_PATH = './nfl-big-data-bowl-2024'\n",
    "GAMES_PATH = os.path.join(FILE_PATH,'games.csv')\n",
    "PLAYS_PATH = os.path.join(FILE_PATH,'plays.csv')\n",
    "PLAYERS_PATH = os.path.join(FILE_PATH,'players.csv')\n",
    "TACKLES_PATH = os.path.join(FILE_PATH,'tackles.csv')\n",
    "\n",
    "#Tracking weeks\n",
    "WEEK1_PATH = os.path.join(FILE_PATH,'tracking_week_1.csv')"
   ]
  },
  {
   "cell_type": "markdown",
   "source": [
    "## Load Data"
   ],
   "metadata": {
    "collapsed": false
   }
  },
  {
   "cell_type": "code",
   "execution_count": 4,
   "outputs": [],
   "source": [
    "#base data\n",
    "games_df = pd.read_csv(GAMES_PATH)\n",
    "players_df = pd.read_csv(PLAYERS_PATH)\n",
    "plays_df = pd.read_csv(PLAYS_PATH)\n",
    "tackles_df = pd.read_csv(TACKLES_PATH)\n",
    "\n",
    "#tracking week 1\n",
    "week1_df = pd.read_csv(WEEK1_PATH)"
   ],
   "metadata": {
    "collapsed": false
   }
  },
  {
   "cell_type": "code",
   "execution_count": 6,
   "outputs": [
    {
     "data": {
      "text/plain": "       gameId  season  week    gameDate gameTimeEastern homeTeamAbbr  \\\n0  2022090800    2022     1  09/08/2022        20:20:00           LA   \n1  2022091100    2022     1  09/11/2022        13:00:00          ATL   \n\n  visitorTeamAbbr  homeFinalScore  visitorFinalScore  \n0             BUF              10                 31  \n1              NO              26                 27  ",
      "text/html": "<div>\n<style scoped>\n    .dataframe tbody tr th:only-of-type {\n        vertical-align: middle;\n    }\n\n    .dataframe tbody tr th {\n        vertical-align: top;\n    }\n\n    .dataframe thead th {\n        text-align: right;\n    }\n</style>\n<table border=\"1\" class=\"dataframe\">\n  <thead>\n    <tr style=\"text-align: right;\">\n      <th></th>\n      <th>gameId</th>\n      <th>season</th>\n      <th>week</th>\n      <th>gameDate</th>\n      <th>gameTimeEastern</th>\n      <th>homeTeamAbbr</th>\n      <th>visitorTeamAbbr</th>\n      <th>homeFinalScore</th>\n      <th>visitorFinalScore</th>\n    </tr>\n  </thead>\n  <tbody>\n    <tr>\n      <th>0</th>\n      <td>2022090800</td>\n      <td>2022</td>\n      <td>1</td>\n      <td>09/08/2022</td>\n      <td>20:20:00</td>\n      <td>LA</td>\n      <td>BUF</td>\n      <td>10</td>\n      <td>31</td>\n    </tr>\n    <tr>\n      <th>1</th>\n      <td>2022091100</td>\n      <td>2022</td>\n      <td>1</td>\n      <td>09/11/2022</td>\n      <td>13:00:00</td>\n      <td>ATL</td>\n      <td>NO</td>\n      <td>26</td>\n      <td>27</td>\n    </tr>\n  </tbody>\n</table>\n</div>"
     },
     "metadata": {},
     "output_type": "display_data"
    },
    {
     "data": {
      "text/plain": "   nflId height  weight   birthDate collegeName position   displayName\n0  25511    6-4     225  1977-08-03    Michigan       QB     Tom Brady\n1  29550    6-4     328  1982-01-22    Arkansas        T  Jason Peters",
      "text/html": "<div>\n<style scoped>\n    .dataframe tbody tr th:only-of-type {\n        vertical-align: middle;\n    }\n\n    .dataframe tbody tr th {\n        vertical-align: top;\n    }\n\n    .dataframe thead th {\n        text-align: right;\n    }\n</style>\n<table border=\"1\" class=\"dataframe\">\n  <thead>\n    <tr style=\"text-align: right;\">\n      <th></th>\n      <th>nflId</th>\n      <th>height</th>\n      <th>weight</th>\n      <th>birthDate</th>\n      <th>collegeName</th>\n      <th>position</th>\n      <th>displayName</th>\n    </tr>\n  </thead>\n  <tbody>\n    <tr>\n      <th>0</th>\n      <td>25511</td>\n      <td>6-4</td>\n      <td>225</td>\n      <td>1977-08-03</td>\n      <td>Michigan</td>\n      <td>QB</td>\n      <td>Tom Brady</td>\n    </tr>\n    <tr>\n      <th>1</th>\n      <td>29550</td>\n      <td>6-4</td>\n      <td>328</td>\n      <td>1982-01-22</td>\n      <td>Arkansas</td>\n      <td>T</td>\n      <td>Jason Peters</td>\n    </tr>\n  </tbody>\n</table>\n</div>"
     },
     "metadata": {},
     "output_type": "display_data"
    },
    {
     "data": {
      "text/plain": "       gameId  playId  ballCarrierId ballCarrierDisplayName  \\\n0  2022100908    3537          48723           Parker Hesse   \n1  2022091103    3126          52457         Chase Claypool   \n\n                                     playDescription  quarter  down  \\\n0  (7:52) (Shotgun) M.Mariota pass short middle t...        4     1   \n1  (7:38) (Shotgun) C.Claypool right end to PIT 3...        4     1   \n\n   yardsToGo possessionTeam defensiveTeam  ... preSnapHomeTeamWinProbability  \\\n0         10            ATL            TB  ...                      0.976785   \n1         10            PIT           CIN  ...                      0.160485   \n\n   preSnapVisitorTeamWinProbability homeTeamWinProbabilityAdded  \\\n0                          0.023215                   -0.006110   \n1                          0.839515                   -0.010865   \n\n   visitorTeamWinProbilityAdded  expectedPoints expectedPointsAdded  \\\n0                      0.006110        2.360609            0.981955   \n1                      0.010865        1.733344           -0.263424   \n\n   foulName1  foulName2  foulNFLId1  foulNFLId2  \n0        NaN        NaN         NaN         NaN  \n1        NaN        NaN         NaN         NaN  \n\n[2 rows x 35 columns]",
      "text/html": "<div>\n<style scoped>\n    .dataframe tbody tr th:only-of-type {\n        vertical-align: middle;\n    }\n\n    .dataframe tbody tr th {\n        vertical-align: top;\n    }\n\n    .dataframe thead th {\n        text-align: right;\n    }\n</style>\n<table border=\"1\" class=\"dataframe\">\n  <thead>\n    <tr style=\"text-align: right;\">\n      <th></th>\n      <th>gameId</th>\n      <th>playId</th>\n      <th>ballCarrierId</th>\n      <th>ballCarrierDisplayName</th>\n      <th>playDescription</th>\n      <th>quarter</th>\n      <th>down</th>\n      <th>yardsToGo</th>\n      <th>possessionTeam</th>\n      <th>defensiveTeam</th>\n      <th>...</th>\n      <th>preSnapHomeTeamWinProbability</th>\n      <th>preSnapVisitorTeamWinProbability</th>\n      <th>homeTeamWinProbabilityAdded</th>\n      <th>visitorTeamWinProbilityAdded</th>\n      <th>expectedPoints</th>\n      <th>expectedPointsAdded</th>\n      <th>foulName1</th>\n      <th>foulName2</th>\n      <th>foulNFLId1</th>\n      <th>foulNFLId2</th>\n    </tr>\n  </thead>\n  <tbody>\n    <tr>\n      <th>0</th>\n      <td>2022100908</td>\n      <td>3537</td>\n      <td>48723</td>\n      <td>Parker Hesse</td>\n      <td>(7:52) (Shotgun) M.Mariota pass short middle t...</td>\n      <td>4</td>\n      <td>1</td>\n      <td>10</td>\n      <td>ATL</td>\n      <td>TB</td>\n      <td>...</td>\n      <td>0.976785</td>\n      <td>0.023215</td>\n      <td>-0.006110</td>\n      <td>0.006110</td>\n      <td>2.360609</td>\n      <td>0.981955</td>\n      <td>NaN</td>\n      <td>NaN</td>\n      <td>NaN</td>\n      <td>NaN</td>\n    </tr>\n    <tr>\n      <th>1</th>\n      <td>2022091103</td>\n      <td>3126</td>\n      <td>52457</td>\n      <td>Chase Claypool</td>\n      <td>(7:38) (Shotgun) C.Claypool right end to PIT 3...</td>\n      <td>4</td>\n      <td>1</td>\n      <td>10</td>\n      <td>PIT</td>\n      <td>CIN</td>\n      <td>...</td>\n      <td>0.160485</td>\n      <td>0.839515</td>\n      <td>-0.010865</td>\n      <td>0.010865</td>\n      <td>1.733344</td>\n      <td>-0.263424</td>\n      <td>NaN</td>\n      <td>NaN</td>\n      <td>NaN</td>\n      <td>NaN</td>\n    </tr>\n  </tbody>\n</table>\n<p>2 rows × 35 columns</p>\n</div>"
     },
     "metadata": {},
     "output_type": "display_data"
    }
   ],
   "source": [
    "#example of content\n",
    "display(games_df.head(2))\n",
    "display(players_df.head(2))\n",
    "display(plays_df.head(2))"
   ],
   "metadata": {
    "collapsed": false
   }
  },
  {
   "cell_type": "code",
   "execution_count": 40,
   "outputs": [
    {
     "data": {
      "text/plain": "Index(['gameId', 'playId', 'ballCarrierId', 'ballCarrierDisplayName',\n       'playDescription', 'quarter', 'down', 'yardsToGo', 'possessionTeam',\n       'defensiveTeam', 'yardlineSide', 'yardlineNumber', 'gameClock',\n       'preSnapHomeScore', 'preSnapVisitorScore', 'passResult', 'passLength',\n       'penaltyYards', 'prePenaltyPlayResult', 'playResult',\n       'playNullifiedByPenalty', 'absoluteYardlineNumber', 'offenseFormation',\n       'defendersInTheBox', 'passProbability', 'preSnapHomeTeamWinProbability',\n       'preSnapVisitorTeamWinProbability', 'homeTeamWinProbabilityAdded',\n       'visitorTeamWinProbilityAdded', 'expectedPoints', 'expectedPointsAdded',\n       'foulName1', 'foulName2', 'foulNFLId1', 'foulNFLId2'],\n      dtype='object')"
     },
     "execution_count": 40,
     "metadata": {},
     "output_type": "execute_result"
    }
   ],
   "source": [
    "plays_df.columns"
   ],
   "metadata": {
    "collapsed": false
   }
  },
  {
   "cell_type": "markdown",
   "source": [
    "# EDA\n",
    "### Tracking week data\n",
    "\n",
    "Each tracking week file contains all games for the week as well as a number of plays, and the position of every player on the field during that play"
   ],
   "metadata": {
    "collapsed": false
   }
  },
  {
   "cell_type": "code",
   "execution_count": 42,
   "outputs": [
    {
     "data": {
      "text/plain": "       gameId  playId    nflId     displayName  frameId  \\\n0  2022090800      56  35472.0  Rodger Saffold        1   \n1  2022090800      56  35472.0  Rodger Saffold        2   \n\n                         time  jerseyNumber club playDirection      x      y  \\\n0  2022-09-08 20:24:05.200000          76.0  BUF          left  88.37  27.27   \n1  2022-09-08 20:24:05.299999          76.0  BUF          left  88.47  27.13   \n\n      s     a   dis       o     dir         event  \n0  1.62  1.15  0.16  231.74  147.90           NaN  \n1  1.67  0.61  0.17  230.98  148.53  pass_arrived  ",
      "text/html": "<div>\n<style scoped>\n    .dataframe tbody tr th:only-of-type {\n        vertical-align: middle;\n    }\n\n    .dataframe tbody tr th {\n        vertical-align: top;\n    }\n\n    .dataframe thead th {\n        text-align: right;\n    }\n</style>\n<table border=\"1\" class=\"dataframe\">\n  <thead>\n    <tr style=\"text-align: right;\">\n      <th></th>\n      <th>gameId</th>\n      <th>playId</th>\n      <th>nflId</th>\n      <th>displayName</th>\n      <th>frameId</th>\n      <th>time</th>\n      <th>jerseyNumber</th>\n      <th>club</th>\n      <th>playDirection</th>\n      <th>x</th>\n      <th>y</th>\n      <th>s</th>\n      <th>a</th>\n      <th>dis</th>\n      <th>o</th>\n      <th>dir</th>\n      <th>event</th>\n    </tr>\n  </thead>\n  <tbody>\n    <tr>\n      <th>0</th>\n      <td>2022090800</td>\n      <td>56</td>\n      <td>35472.0</td>\n      <td>Rodger Saffold</td>\n      <td>1</td>\n      <td>2022-09-08 20:24:05.200000</td>\n      <td>76.0</td>\n      <td>BUF</td>\n      <td>left</td>\n      <td>88.37</td>\n      <td>27.27</td>\n      <td>1.62</td>\n      <td>1.15</td>\n      <td>0.16</td>\n      <td>231.74</td>\n      <td>147.90</td>\n      <td>NaN</td>\n    </tr>\n    <tr>\n      <th>1</th>\n      <td>2022090800</td>\n      <td>56</td>\n      <td>35472.0</td>\n      <td>Rodger Saffold</td>\n      <td>2</td>\n      <td>2022-09-08 20:24:05.299999</td>\n      <td>76.0</td>\n      <td>BUF</td>\n      <td>left</td>\n      <td>88.47</td>\n      <td>27.13</td>\n      <td>1.67</td>\n      <td>0.61</td>\n      <td>0.17</td>\n      <td>230.98</td>\n      <td>148.53</td>\n      <td>pass_arrived</td>\n    </tr>\n  </tbody>\n</table>\n</div>"
     },
     "metadata": {},
     "output_type": "display_data"
    },
    {
     "name": "stdout",
     "output_type": "stream",
     "text": [
      "Total number of plays in this game data: 91\n",
      "Number of players in this game data: 68\n"
     ]
    },
    {
     "data": {
      "text/plain": "<matplotlib.legend.Legend at 0x1af55dfb0a0>"
     },
     "execution_count": 42,
     "metadata": {},
     "output_type": "execute_result"
    },
    {
     "data": {
      "text/plain": "<Figure size 640x480 with 1 Axes>",
      "image/png": "[encoded data removed]"
     },
     "metadata": {},
     "output_type": "display_data"
    }
   ],
   "source": [
    "#get all week1_games\n",
    "week1_games = week1_df['gameId'].unique()\n",
    "qb_df = players_df[players_df['position']=='QB']\n",
    "\n",
    "game_1 = week1_df[week1_df['gameId'] == week1_games[0]]\n",
    "\n",
    "display(game_1.head(2))\n",
    "print('Total number of plays in this game data: {}'.format(len(game_1.playId.unique())))\n",
    "print('Number of players in this game data: {}'.format(len(game_1.nflId.unique())))\n",
    "\n",
    "plot_data = pd.DataFrame()\n",
    "play_1 = game_1[game_1['playId']==56]\n",
    "\n",
    "play_1.to_csv('play_1.csv')\n",
    "\n",
    "#football nflId is NaN. Should change\n",
    "for player in play_1['displayName'].unique():\n",
    "    #first play,frame only test\n",
    "    player_data = play_1[play_1['displayName']==player]\n",
    "    plot_data.loc[player,'x_pos'] = player_data['x'].iloc[0]\n",
    "    plot_data.loc[player,'y_pos'] = player_data['y'].iloc[0]\n",
    "    plot_data.loc[player,'team'] = player_data['club'].iloc[0]\n",
    "\n",
    "for i in plot_data.index:\n",
    "    if i in qb_df.displayName.values:\n",
    "        plot_data.loc[i,'team'] = plot_data.loc[i,'team'] + '_QB'\n",
    "\n",
    "sns.scatterplot(data=plot_data,x='x_pos',y='y_pos',hue='team',s=30)\n",
    "\n",
    "plt.legend(bbox_to_anchor=(1.02, 1), loc='upper left', borderaxespad=0)"
   ],
   "metadata": {
    "collapsed": false
   }
  },
  {
   "cell_type": "code",
   "execution_count": null,
   "outputs": [],
   "source": [],
   "metadata": {
    "collapsed": false
   }
  }
 ],
 "metadata": {
  "kernelspec": {
   "display_name": "Python 3",
   "language": "python",
   "name": "python3"
  },
  "language_info": {
   "codemirror_mode": {
    "name": "ipython",
    "version": 3
   },
   "file_extension": ".py",
   "mimetype": "text/x-python",
   "name": "python",
   "nbconvert_exporter": "python",
   "pygments_lexer": "ipython3",
   "version": "3.10.12"
  }
 },
 "nbformat": 4,
 "nbformat_minor": 0
}
